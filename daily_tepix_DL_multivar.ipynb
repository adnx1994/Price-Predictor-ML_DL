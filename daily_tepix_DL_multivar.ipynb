{
 "cells": [
  {
   "cell_type": "code",
   "execution_count": 23,
   "metadata": {},
   "outputs": [],
   "source": [
    "from datetime import datetime\n",
    "import pandas as pd\n",
    "import matplotlib.pyplot as plt\n",
    "import numpy as np\n",
    "import finpy_tse as fpy\n",
    "import pytse_client as tse\n",
    "import yfinance as yf\n",
    "import ta \n",
    "import requests\n",
    "import asyncio\n",
    "\n",
    "\n",
    "\n",
    "import math as math"
   ]
  },
  {
   "cell_type": "code",
   "execution_count": 24,
   "metadata": {},
   "outputs": [],
   "source": [
    "\n",
    "from sklearn.preprocessing import MinMaxScaler\n",
    "from keras.models import Sequential \n",
    "from keras.layers import Dense , LSTM\n",
    "plt.style.use('fivethirtyeight')\n"
   ]
  },
  {
   "cell_type": "code",
   "execution_count": 25,
   "metadata": {},
   "outputs": [
    {
     "data": {
      "text/plain": [
       "'2024-05-24'"
      ]
     },
     "execution_count": 25,
     "metadata": {},
     "output_type": "execute_result"
    }
   ],
   "source": [
    "last_day =datetime.now()\n",
    "last_day=last_day.date()\n",
    "last_day=str(last_day)\n",
    "last_day"
   ]
  },
  {
   "cell_type": "code",
   "execution_count": 26,
   "metadata": {},
   "outputs": [],
   "source": [
    "count=750   # tedad candle data"
   ]
  },
  {
   "cell_type": "code",
   "execution_count": 27,
   "metadata": {},
   "outputs": [],
   "source": [
    "n = 400   #  tedad rooz data baraye train    mitavanad natije ro behbood ya kahesh dahad bana be noo daraie"
   ]
  },
  {
   "cell_type": "code",
   "execution_count": 28,
   "metadata": {},
   "outputs": [
    {
     "data": {
      "text/html": [
       "<div>\n",
       "<style scoped>\n",
       "    .dataframe tbody tr th:only-of-type {\n",
       "        vertical-align: middle;\n",
       "    }\n",
       "\n",
       "    .dataframe tbody tr th {\n",
       "        vertical-align: top;\n",
       "    }\n",
       "\n",
       "    .dataframe thead th {\n",
       "        text-align: right;\n",
       "    }\n",
       "</style>\n",
       "<table border=\"1\" class=\"dataframe\">\n",
       "  <thead>\n",
       "    <tr style=\"text-align: right;\">\n",
       "      <th></th>\n",
       "      <th>Date</th>\n",
       "      <th>Open</th>\n",
       "      <th>High</th>\n",
       "      <th>Low</th>\n",
       "      <th>Close</th>\n",
       "      <th>Adj Close</th>\n",
       "      <th>Volume</th>\n",
       "    </tr>\n",
       "    <tr>\n",
       "      <th>Date</th>\n",
       "      <th></th>\n",
       "      <th></th>\n",
       "      <th></th>\n",
       "      <th></th>\n",
       "      <th></th>\n",
       "      <th></th>\n",
       "      <th></th>\n",
       "    </tr>\n",
       "  </thead>\n",
       "  <tbody>\n",
       "    <tr>\n",
       "      <th>2008-12-06</th>\n",
       "      <td>2008-12-06</td>\n",
       "      <td>9249.0</td>\n",
       "      <td>9249.0</td>\n",
       "      <td>9168.0</td>\n",
       "      <td>9178.0</td>\n",
       "      <td>9178.3</td>\n",
       "      <td>8539624</td>\n",
       "    </tr>\n",
       "    <tr>\n",
       "      <th>2008-12-07</th>\n",
       "      <td>2008-12-07</td>\n",
       "      <td>9178.0</td>\n",
       "      <td>9178.0</td>\n",
       "      <td>9130.0</td>\n",
       "      <td>9130.0</td>\n",
       "      <td>9130.5</td>\n",
       "      <td>11752353</td>\n",
       "    </tr>\n",
       "    <tr>\n",
       "      <th>2008-12-08</th>\n",
       "      <td>2008-12-08</td>\n",
       "      <td>9103.0</td>\n",
       "      <td>9103.0</td>\n",
       "      <td>9080.0</td>\n",
       "      <td>9089.0</td>\n",
       "      <td>9089.2</td>\n",
       "      <td>15299115</td>\n",
       "    </tr>\n",
       "    <tr>\n",
       "      <th>2008-12-10</th>\n",
       "      <td>2008-12-10</td>\n",
       "      <td>9072.0</td>\n",
       "      <td>9072.0</td>\n",
       "      <td>9024.0</td>\n",
       "      <td>9024.0</td>\n",
       "      <td>9023.7</td>\n",
       "      <td>15689653</td>\n",
       "    </tr>\n",
       "    <tr>\n",
       "      <th>2008-12-13</th>\n",
       "      <td>2008-12-13</td>\n",
       "      <td>8973.0</td>\n",
       "      <td>8973.0</td>\n",
       "      <td>8973.0</td>\n",
       "      <td>8973.0</td>\n",
       "      <td>8973.3</td>\n",
       "      <td>31428174</td>\n",
       "    </tr>\n",
       "    <tr>\n",
       "      <th>...</th>\n",
       "      <td>...</td>\n",
       "      <td>...</td>\n",
       "      <td>...</td>\n",
       "      <td>...</td>\n",
       "      <td>...</td>\n",
       "      <td>...</td>\n",
       "      <td>...</td>\n",
       "    </tr>\n",
       "    <tr>\n",
       "      <th>2024-05-15</th>\n",
       "      <td>2024-05-15</td>\n",
       "      <td>2165990.0</td>\n",
       "      <td>2166380.0</td>\n",
       "      <td>2159160.0</td>\n",
       "      <td>2164692.0</td>\n",
       "      <td>2164692.3</td>\n",
       "      <td>4125186697</td>\n",
       "    </tr>\n",
       "    <tr>\n",
       "      <th>2024-05-18</th>\n",
       "      <td>2024-05-18</td>\n",
       "      <td>2166800.0</td>\n",
       "      <td>2174950.0</td>\n",
       "      <td>2166800.0</td>\n",
       "      <td>2168676.0</td>\n",
       "      <td>2168676.3</td>\n",
       "      <td>4410308923</td>\n",
       "    </tr>\n",
       "    <tr>\n",
       "      <th>2024-05-19</th>\n",
       "      <td>2024-05-19</td>\n",
       "      <td>2166180.0</td>\n",
       "      <td>2166180.0</td>\n",
       "      <td>2106430.0</td>\n",
       "      <td>2112560.0</td>\n",
       "      <td>2112560.3</td>\n",
       "      <td>5689636315</td>\n",
       "    </tr>\n",
       "    <tr>\n",
       "      <th>2024-05-20</th>\n",
       "      <td>2024-05-20</td>\n",
       "      <td>0.0</td>\n",
       "      <td>2112560.0</td>\n",
       "      <td>2112560.0</td>\n",
       "      <td>2112560.0</td>\n",
       "      <td>2112560.3</td>\n",
       "      <td>0</td>\n",
       "    </tr>\n",
       "    <tr>\n",
       "      <th>2024-05-21</th>\n",
       "      <td>2024-05-21</td>\n",
       "      <td>2112160.0</td>\n",
       "      <td>2115230.0</td>\n",
       "      <td>2112110.0</td>\n",
       "      <td>2114144.0</td>\n",
       "      <td>2114144.1</td>\n",
       "      <td>3205802104</td>\n",
       "    </tr>\n",
       "  </tbody>\n",
       "</table>\n",
       "<p>3724 rows × 7 columns</p>\n",
       "</div>"
      ],
      "text/plain": [
       "                 Date       Open       High        Low      Close  Adj Close  \\\n",
       "Date                                                                           \n",
       "2008-12-06 2008-12-06     9249.0     9249.0     9168.0     9178.0     9178.3   \n",
       "2008-12-07 2008-12-07     9178.0     9178.0     9130.0     9130.0     9130.5   \n",
       "2008-12-08 2008-12-08     9103.0     9103.0     9080.0     9089.0     9089.2   \n",
       "2008-12-10 2008-12-10     9072.0     9072.0     9024.0     9024.0     9023.7   \n",
       "2008-12-13 2008-12-13     8973.0     8973.0     8973.0     8973.0     8973.3   \n",
       "...               ...        ...        ...        ...        ...        ...   \n",
       "2024-05-15 2024-05-15  2165990.0  2166380.0  2159160.0  2164692.0  2164692.3   \n",
       "2024-05-18 2024-05-18  2166800.0  2174950.0  2166800.0  2168676.0  2168676.3   \n",
       "2024-05-19 2024-05-19  2166180.0  2166180.0  2106430.0  2112560.0  2112560.3   \n",
       "2024-05-20 2024-05-20        0.0  2112560.0  2112560.0  2112560.0  2112560.3   \n",
       "2024-05-21 2024-05-21  2112160.0  2115230.0  2112110.0  2114144.0  2114144.1   \n",
       "\n",
       "                Volume  \n",
       "Date                    \n",
       "2008-12-06     8539624  \n",
       "2008-12-07    11752353  \n",
       "2008-12-08    15299115  \n",
       "2008-12-10    15689653  \n",
       "2008-12-13    31428174  \n",
       "...                ...  \n",
       "2024-05-15  4125186697  \n",
       "2024-05-18  4410308923  \n",
       "2024-05-19  5689636315  \n",
       "2024-05-20           0  \n",
       "2024-05-21  3205802104  \n",
       "\n",
       "[3724 rows x 7 columns]"
      ]
     },
     "execution_count": 28,
     "metadata": {},
     "output_type": "execute_result"
    }
   ],
   "source": [
    "\n",
    "\n",
    "#fpy>>>>> index tepix\n",
    "\n",
    "def index_kol(bars:int=9500):\n",
    "        while True:\n",
    "            try:\n",
    "                data=fpy.Get_CWI_History(ignore_date=True,double_date=True)\n",
    "                data=data.iloc[:-bars:-1][::-1]\n",
    "                data.index=data['Date']\n",
    "                header = {'User-Agent': \"ADN\"}\n",
    "                adres = 'http://cdn.tsetmc.com/api/Index/GetIndexB1LastDay/32097828799138957'\n",
    "                darkhast = requests.get(url=adres, headers=header).text.split('},{')\n",
    "\n",
    "                for a in darkhast:\n",
    "                    close_tepix = int(a.split('xDrNivJIdx004\":')[1].split('.')[0])\n",
    "                    high_tepix = int(a.split('xPhNivJIdx004\":')[1].split('.')[0])\n",
    "                    low_tepix = int(a.split('xPbNivJIdx004\":')[1].split('.')[0])\n",
    "                    open_tepix = int(darkhast[7].split('xDrNivJIdx004\":')[1].split('.')[0])\n",
    "                    \n",
    "                formatted_date = pd.to_datetime(last_day)\n",
    "                # اطلاعات خود را به صورت یک دیکشنری تعریف می‌کنیم\n",
    "                data_tepix = {\n",
    "                    'Date':[formatted_date],\n",
    "                    'Open':[open_tepix],\n",
    "                    'High':[high_tepix],\n",
    "                    'Low':[low_tepix],\n",
    "                    'Close':[close_tepix],\n",
    "                    'Adj Close':[close_tepix],\n",
    "                    'Volume':0,  }\n",
    "                # دیکشنری را به DataFrame تبدیل می‌کنیم\n",
    "                instant_tepix = pd.DataFrame(data_tepix)\n",
    "                instant_tepix.index=instant_tepix['Date']\n",
    "                instant_tepix = pd.DataFrame(instant_tepix)\n",
    "                instant_tepix = pd.concat([instant_tepix, data])\n",
    "                instant_tepix = instant_tepix.sort_index(ascending=True)\n",
    "                \n",
    "                if  (instant_tepix.iloc[-1]['Close'] == instant_tepix.iloc[-2]['Close']  )   or  (  abs(instant_tepix.iloc[-1]['Close'] - instant_tepix.iloc[-2]['Close']  ) < 2   or  (instant_tepix.index[-1]== instant_tepix.index[-2] )):\n",
    "                    instant_tepix = instant_tepix.iloc[:-1]\n",
    "                return(instant_tepix)\n",
    "            except Exception as e:\n",
    "                print(f\"An error occurred: {e}\")\n",
    "                asyncio.sleep(2)  # Sleep for 10 seconds before retrying\n",
    "\n",
    "\n",
    "\n",
    "df=index_kol()\n",
    "df"
   ]
  },
  {
   "cell_type": "code",
   "execution_count": 29,
   "metadata": {},
   "outputs": [
    {
     "data": {
      "text/html": [
       "<div>\n",
       "<style scoped>\n",
       "    .dataframe tbody tr th:only-of-type {\n",
       "        vertical-align: middle;\n",
       "    }\n",
       "\n",
       "    .dataframe tbody tr th {\n",
       "        vertical-align: top;\n",
       "    }\n",
       "\n",
       "    .dataframe thead th {\n",
       "        text-align: right;\n",
       "    }\n",
       "</style>\n",
       "<table border=\"1\" class=\"dataframe\">\n",
       "  <thead>\n",
       "    <tr style=\"text-align: right;\">\n",
       "      <th></th>\n",
       "      <th>Date</th>\n",
       "      <th>Open</th>\n",
       "      <th>High</th>\n",
       "      <th>Low</th>\n",
       "      <th>Close</th>\n",
       "      <th>Adj Close</th>\n",
       "      <th>Volume</th>\n",
       "    </tr>\n",
       "    <tr>\n",
       "      <th>Date</th>\n",
       "      <th></th>\n",
       "      <th></th>\n",
       "      <th></th>\n",
       "      <th></th>\n",
       "      <th></th>\n",
       "      <th></th>\n",
       "      <th></th>\n",
       "    </tr>\n",
       "  </thead>\n",
       "  <tbody>\n",
       "    <tr>\n",
       "      <th>2021-04-07</th>\n",
       "      <td>2021-04-07</td>\n",
       "      <td>1258600.0</td>\n",
       "      <td>1258600.0</td>\n",
       "      <td>1249890.0</td>\n",
       "      <td>1249898.0</td>\n",
       "      <td>1249910.4</td>\n",
       "      <td>1068639226</td>\n",
       "    </tr>\n",
       "    <tr>\n",
       "      <th>2021-04-10</th>\n",
       "      <td>2021-04-10</td>\n",
       "      <td>1246740.0</td>\n",
       "      <td>1246740.0</td>\n",
       "      <td>1240750.0</td>\n",
       "      <td>1240759.0</td>\n",
       "      <td>1240696.7</td>\n",
       "      <td>588396551</td>\n",
       "    </tr>\n",
       "    <tr>\n",
       "      <th>2021-04-11</th>\n",
       "      <td>2021-04-11</td>\n",
       "      <td>1237340.0</td>\n",
       "      <td>1237340.0</td>\n",
       "      <td>1230920.0</td>\n",
       "      <td>1230927.0</td>\n",
       "      <td>1230876.5</td>\n",
       "      <td>1265213974</td>\n",
       "    </tr>\n",
       "    <tr>\n",
       "      <th>2021-04-12</th>\n",
       "      <td>2021-04-12</td>\n",
       "      <td>1228760.0</td>\n",
       "      <td>1228760.0</td>\n",
       "      <td>1225810.0</td>\n",
       "      <td>1226119.0</td>\n",
       "      <td>1226158.2</td>\n",
       "      <td>2409026367</td>\n",
       "    </tr>\n",
       "    <tr>\n",
       "      <th>2021-04-13</th>\n",
       "      <td>2021-04-13</td>\n",
       "      <td>1234640.0</td>\n",
       "      <td>1245540.0</td>\n",
       "      <td>1234640.0</td>\n",
       "      <td>1244587.0</td>\n",
       "      <td>1244556.7</td>\n",
       "      <td>5631017338</td>\n",
       "    </tr>\n",
       "    <tr>\n",
       "      <th>...</th>\n",
       "      <td>...</td>\n",
       "      <td>...</td>\n",
       "      <td>...</td>\n",
       "      <td>...</td>\n",
       "      <td>...</td>\n",
       "      <td>...</td>\n",
       "      <td>...</td>\n",
       "    </tr>\n",
       "    <tr>\n",
       "      <th>2024-05-15</th>\n",
       "      <td>2024-05-15</td>\n",
       "      <td>2165990.0</td>\n",
       "      <td>2166380.0</td>\n",
       "      <td>2159160.0</td>\n",
       "      <td>2164692.0</td>\n",
       "      <td>2164692.3</td>\n",
       "      <td>4125186697</td>\n",
       "    </tr>\n",
       "    <tr>\n",
       "      <th>2024-05-18</th>\n",
       "      <td>2024-05-18</td>\n",
       "      <td>2166800.0</td>\n",
       "      <td>2174950.0</td>\n",
       "      <td>2166800.0</td>\n",
       "      <td>2168676.0</td>\n",
       "      <td>2168676.3</td>\n",
       "      <td>4410308923</td>\n",
       "    </tr>\n",
       "    <tr>\n",
       "      <th>2024-05-19</th>\n",
       "      <td>2024-05-19</td>\n",
       "      <td>2166180.0</td>\n",
       "      <td>2166180.0</td>\n",
       "      <td>2106430.0</td>\n",
       "      <td>2112560.0</td>\n",
       "      <td>2112560.3</td>\n",
       "      <td>5689636315</td>\n",
       "    </tr>\n",
       "    <tr>\n",
       "      <th>2024-05-20</th>\n",
       "      <td>2024-05-20</td>\n",
       "      <td>0.0</td>\n",
       "      <td>2112560.0</td>\n",
       "      <td>2112560.0</td>\n",
       "      <td>2112560.0</td>\n",
       "      <td>2112560.3</td>\n",
       "      <td>0</td>\n",
       "    </tr>\n",
       "    <tr>\n",
       "      <th>2024-05-21</th>\n",
       "      <td>2024-05-21</td>\n",
       "      <td>2112160.0</td>\n",
       "      <td>2115230.0</td>\n",
       "      <td>2112110.0</td>\n",
       "      <td>2114144.0</td>\n",
       "      <td>2114144.1</td>\n",
       "      <td>3205802104</td>\n",
       "    </tr>\n",
       "  </tbody>\n",
       "</table>\n",
       "<p>750 rows × 7 columns</p>\n",
       "</div>"
      ],
      "text/plain": [
       "                 Date       Open       High        Low      Close  Adj Close  \\\n",
       "Date                                                                           \n",
       "2021-04-07 2021-04-07  1258600.0  1258600.0  1249890.0  1249898.0  1249910.4   \n",
       "2021-04-10 2021-04-10  1246740.0  1246740.0  1240750.0  1240759.0  1240696.7   \n",
       "2021-04-11 2021-04-11  1237340.0  1237340.0  1230920.0  1230927.0  1230876.5   \n",
       "2021-04-12 2021-04-12  1228760.0  1228760.0  1225810.0  1226119.0  1226158.2   \n",
       "2021-04-13 2021-04-13  1234640.0  1245540.0  1234640.0  1244587.0  1244556.7   \n",
       "...               ...        ...        ...        ...        ...        ...   \n",
       "2024-05-15 2024-05-15  2165990.0  2166380.0  2159160.0  2164692.0  2164692.3   \n",
       "2024-05-18 2024-05-18  2166800.0  2174950.0  2166800.0  2168676.0  2168676.3   \n",
       "2024-05-19 2024-05-19  2166180.0  2166180.0  2106430.0  2112560.0  2112560.3   \n",
       "2024-05-20 2024-05-20        0.0  2112560.0  2112560.0  2112560.0  2112560.3   \n",
       "2024-05-21 2024-05-21  2112160.0  2115230.0  2112110.0  2114144.0  2114144.1   \n",
       "\n",
       "                Volume  \n",
       "Date                    \n",
       "2021-04-07  1068639226  \n",
       "2021-04-10   588396551  \n",
       "2021-04-11  1265213974  \n",
       "2021-04-12  2409026367  \n",
       "2021-04-13  5631017338  \n",
       "...                ...  \n",
       "2024-05-15  4125186697  \n",
       "2024-05-18  4410308923  \n",
       "2024-05-19  5689636315  \n",
       "2024-05-20           0  \n",
       "2024-05-21  3205802104  \n",
       "\n",
       "[750 rows x 7 columns]"
      ]
     },
     "execution_count": 29,
     "metadata": {},
     "output_type": "execute_result"
    }
   ],
   "source": [
    "df=df.tail(count)\n",
    "df"
   ]
  },
  {
   "cell_type": "code",
   "execution_count": 30,
   "metadata": {},
   "outputs": [
    {
     "data": {
      "image/png": "[encoded data removed]",
      "text/plain": [
       "<Figure size 400x200 with 1 Axes>"
      ]
     },
     "metadata": {},
     "output_type": "display_data"
    }
   ],
   "source": [
    "plt.figure(figsize=(4,2))\n",
    "plt.plot(df['Close'])\n",
    "plt.show()\n"
   ]
  },
  {
   "cell_type": "code",
   "execution_count": 31,
   "metadata": {},
   "outputs": [
    {
     "data": {
      "text/plain": [
       "array([[1.24989800e+06, 1.06863923e+09],\n",
       "       [1.24075900e+06, 5.88396551e+08],\n",
       "       [1.23092700e+06, 1.26521397e+09],\n",
       "       ...,\n",
       "       [2.11256000e+06, 5.68963632e+09],\n",
       "       [2.11256000e+06, 0.00000000e+00],\n",
       "       [2.11414400e+06, 3.20580210e+09]])"
      ]
     },
     "execution_count": 31,
     "metadata": {},
     "output_type": "execute_result"
    }
   ],
   "source": [
    "data=df.filter(['Close' , 'Volume'])\n",
    "dataset=data.values\n",
    "dataset"
   ]
  },
  {
   "cell_type": "code",
   "execution_count": 32,
   "metadata": {},
   "outputs": [
    {
     "data": {
      "text/plain": [
       "array([[0.10710033, 0.04393779],\n",
       "       [0.10075164, 0.0241923 ],\n",
       "       [0.09392154, 0.05202009],\n",
       "       ...,\n",
       "       [0.70637509, 0.23393305],\n",
       "       [0.70637509, 0.        ],\n",
       "       [0.70747546, 0.13180861]])"
      ]
     },
     "execution_count": 32,
     "metadata": {},
     "output_type": "execute_result"
    }
   ],
   "source": [
    "training_data_len=math.ceil(len(dataset)*0.8)\n",
    "scaler=MinMaxScaler(feature_range=(0,1))\n",
    "scaled_data=scaler.fit_transform(dataset)\n",
    "scaled_data"
   ]
  },
  {
   "cell_type": "code",
   "execution_count": 33,
   "metadata": {},
   "outputs": [
    {
     "data": {
      "text/plain": [
       "(750, 2)"
      ]
     },
     "execution_count": 33,
     "metadata": {},
     "output_type": "execute_result"
    }
   ],
   "source": [
    "scaled_data.shape"
   ]
  },
  {
   "cell_type": "code",
   "execution_count": 34,
   "metadata": {},
   "outputs": [
    {
     "data": {
      "text/plain": [
       "600"
      ]
     },
     "execution_count": 34,
     "metadata": {},
     "output_type": "execute_result"
    }
   ],
   "source": [
    "training_data_len\n"
   ]
  },
  {
   "cell_type": "code",
   "execution_count": 35,
   "metadata": {},
   "outputs": [],
   "source": [
    "\n",
    "training_data=scaled_data[0:training_data_len , :]\n"
   ]
  },
  {
   "cell_type": "code",
   "execution_count": 36,
   "metadata": {},
   "outputs": [
    {
     "data": {
      "text/plain": [
       "array([[0.10710033, 0.04393779],\n",
       "       [0.10075164, 0.0241923 ],\n",
       "       [0.09392154, 0.05202009],\n",
       "       ...,\n",
       "       [0.62906197, 0.29016962],\n",
       "       [0.63206855, 0.19197232],\n",
       "       [0.63795389, 0.13937825]])"
      ]
     },
     "execution_count": 36,
     "metadata": {},
     "output_type": "execute_result"
    }
   ],
   "source": [
    "training_data\n"
   ]
  },
  {
   "cell_type": "code",
   "execution_count": 37,
   "metadata": {},
   "outputs": [],
   "source": [
    "xtrain=[]\n",
    "ytrain=[]\n",
    "\n"
   ]
  },
  {
   "cell_type": "code",
   "execution_count": 38,
   "metadata": {},
   "outputs": [],
   "source": [
    "for i in range(n,len(training_data)):\n",
    "    xtrain.append(training_data[i-n:i , :])\n",
    "    ytrain.append(training_data[i,0])\n"
   ]
  },
  {
   "cell_type": "code",
   "execution_count": 39,
   "metadata": {},
   "outputs": [],
   "source": [
    "xtrain , ytrain = np.array(xtrain),np.array(ytrain)\n",
    "\n"
   ]
  },
  {
   "cell_type": "code",
   "execution_count": 40,
   "metadata": {},
   "outputs": [
    {
     "data": {
      "text/plain": [
       "(200, 400, 2)"
      ]
     },
     "execution_count": 40,
     "metadata": {},
     "output_type": "execute_result"
    }
   ],
   "source": [
    "xtrain.shape\n"
   ]
  },
  {
   "cell_type": "code",
   "execution_count": 41,
   "metadata": {},
   "outputs": [
    {
     "data": {
      "text/plain": [
       "(200,)"
      ]
     },
     "execution_count": 41,
     "metadata": {},
     "output_type": "execute_result"
    }
   ],
   "source": [
    "\n",
    "ytrain.shape\n"
   ]
  },
  {
   "cell_type": "code",
   "execution_count": 42,
   "metadata": {},
   "outputs": [
    {
     "data": {
      "text/plain": [
       "(200, 1, 1)"
      ]
     },
     "execution_count": 42,
     "metadata": {},
     "output_type": "execute_result"
    }
   ],
   "source": [
    "ytrain=np.reshape(ytrain , (ytrain.shape[0],1,1))\n",
    "ytrain.shape\n"
   ]
  },
  {
   "cell_type": "code",
   "execution_count": 43,
   "metadata": {},
   "outputs": [
    {
     "name": "stderr",
     "output_type": "stream",
     "text": [
      "C:\\Users\\MSI\\AppData\\Roaming\\Python\\Python312\\site-packages\\keras\\src\\layers\\rnn\\rnn.py:205: UserWarning: Do not pass an `input_shape`/`input_dim` argument to a layer. When using Sequential models, prefer using an `Input(shape)` object as the first layer in the model instead.\n",
      "  super().__init__(**kwargs)\n"
     ]
    }
   ],
   "source": [
    "model=Sequential()\n",
    "# input_shape = (time steps , features )\n",
    "model.add(LSTM(50,return_sequences=True,input_shape=(xtrain.shape[1],2)))\n",
    "model.add(LSTM(50,return_sequences=False))\n",
    "model.add(Dense(25))\n",
    "model.add(Dense(1))"
   ]
  },
  {
   "cell_type": "code",
   "execution_count": 44,
   "metadata": {},
   "outputs": [
    {
     "name": "stdout",
     "output_type": "stream",
     "text": [
      "Epoch 1/4\n",
      "\u001b[1m200/200\u001b[0m \u001b[32m━━━━━━━━━━━━━━━━━━━━\u001b[0m\u001b[37m\u001b[0m \u001b[1m19s\u001b[0m 84ms/step - loss: 0.0563\n",
      "Epoch 2/4\n",
      "\u001b[1m200/200\u001b[0m \u001b[32m━━━━━━━━━━━━━━━━━━━━\u001b[0m\u001b[37m\u001b[0m \u001b[1m17s\u001b[0m 86ms/step - loss: 0.0051\n",
      "Epoch 3/4\n",
      "\u001b[1m200/200\u001b[0m \u001b[32m━━━━━━━━━━━━━━━━━━━━\u001b[0m\u001b[37m\u001b[0m \u001b[1m18s\u001b[0m 88ms/step - loss: 0.0055\n",
      "Epoch 4/4\n",
      "\u001b[1m200/200\u001b[0m \u001b[32m━━━━━━━━━━━━━━━━━━━━\u001b[0m\u001b[37m\u001b[0m \u001b[1m17s\u001b[0m 87ms/step - loss: 0.0044\n"
     ]
    },
    {
     "data": {
      "text/plain": [
       "<keras.src.callbacks.history.History at 0x29398bb0680>"
      ]
     },
     "execution_count": 44,
     "metadata": {},
     "output_type": "execute_result"
    }
   ],
   "source": [
    "\n",
    "tekrar=4          #  tedad tekrar baraye afzayesh deghat  (tedad bar oboor az shabake asabi)\n",
    "\n",
    "\n",
    "\n",
    "\n",
    "\n",
    "model.compile(optimizer='adam',loss='mean_squared_error')\n",
    "model.fit(xtrain,ytrain,batch_size=1,epochs=tekrar)\n"
   ]
  },
  {
   "cell_type": "code",
   "execution_count": 45,
   "metadata": {},
   "outputs": [],
   "source": [
    "test_data=scaled_data[training_data_len - n : , :]\n",
    "xtest=[]\n",
    "ytest=dataset[training_data_len : , 0]\n",
    "for i in range(n , len(test_data)):\n",
    "    xtest.append(test_data[i-n : i , :])\n"
   ]
  },
  {
   "cell_type": "code",
   "execution_count": 46,
   "metadata": {},
   "outputs": [
    {
     "data": {
      "text/plain": [
       "array([[0.14280693, 0.2770982 ],\n",
       "       [0.14273676, 0.22877469],\n",
       "       [0.14498753, 0.18725983],\n",
       "       ...,\n",
       "       [0.70637509, 0.23393305],\n",
       "       [0.70637509, 0.        ],\n",
       "       [0.70747546, 0.13180861]])"
      ]
     },
     "execution_count": 46,
     "metadata": {},
     "output_type": "execute_result"
    }
   ],
   "source": [
    "test_data\n"
   ]
  },
  {
   "cell_type": "code",
   "execution_count": 47,
   "metadata": {},
   "outputs": [
    {
     "data": {
      "text/plain": [
       "(550, 2)"
      ]
     },
     "execution_count": 47,
     "metadata": {},
     "output_type": "execute_result"
    }
   ],
   "source": [
    "\n",
    "test_data.shape\n"
   ]
  },
  {
   "cell_type": "code",
   "execution_count": 48,
   "metadata": {},
   "outputs": [
    {
     "data": {
      "text/plain": [
       "(150,)"
      ]
     },
     "execution_count": 48,
     "metadata": {},
     "output_type": "execute_result"
    }
   ],
   "source": [
    "\n",
    "ytest=np.array(ytest)\n",
    "ytest.shape\n",
    "\n"
   ]
  },
  {
   "cell_type": "code",
   "execution_count": 49,
   "metadata": {},
   "outputs": [
    {
     "data": {
      "text/plain": [
       "(150, 400, 2)"
      ]
     },
     "execution_count": 49,
     "metadata": {},
     "output_type": "execute_result"
    }
   ],
   "source": [
    "xtest=np.array(xtest)\n",
    "xtest.shape\n"
   ]
  },
  {
   "cell_type": "code",
   "execution_count": 50,
   "metadata": {},
   "outputs": [
    {
     "name": "stdout",
     "output_type": "stream",
     "text": [
      "\u001b[1m5/5\u001b[0m \u001b[32m━━━━━━━━━━━━━━━━━━━━\u001b[0m\u001b[37m\u001b[0m \u001b[1m1s\u001b[0m 111ms/step\n"
     ]
    }
   ],
   "source": [
    "prediction=model.predict(xtest)\n"
   ]
  },
  {
   "cell_type": "code",
   "execution_count": 51,
   "metadata": {},
   "outputs": [],
   "source": [
    "Predict_dataset_like = np.zeros(shape=(len(prediction), 2) )\n",
    "\n",
    "Predict_dataset_like[:,0] = prediction[:,0]\n",
    "\n",
    "prediction = scaler.inverse_transform(Predict_dataset_like)[:,0]\n"
   ]
  },
  {
   "cell_type": "code",
   "execution_count": 52,
   "metadata": {},
   "outputs": [
    {
     "data": {
      "text/plain": [
       "array([2095864.79956484, 2085061.87814689, 2076748.14352906,\n",
       "       2068464.35362852, 2063003.00348496, 2060276.74718952,\n",
       "       2060802.88187838, 2058780.19773698, 2057593.56323814,\n",
       "       2057501.75565219, 2056928.43014812, 2055434.1973356 ,\n",
       "       2056524.73417437, 2052309.47895682, 2047347.75084412,\n",
       "       2041730.49940741, 2037466.337345  , 2036587.98757172,\n",
       "       2037739.35766137, 2041072.83104634, 2052449.42117429,\n",
       "       2059089.85528624, 2063846.34625351, 2067166.94941616,\n",
       "       2070224.57103586, 2071198.50366032, 2070949.25035453,\n",
       "       2068749.55775535, 2066404.68904829, 2063894.39508355,\n",
       "       2061349.52312148, 2059963.14277208, 2058829.70519221,\n",
       "       2059889.09609294, 2060661.48103571, 2062057.64275408,\n",
       "       2070305.13862765, 2082320.26338613, 2103462.60661519,\n",
       "       2126817.68426871, 2147320.29164648, 2156764.80399823,\n",
       "       2160696.82852304, 2160021.39925516, 2159013.06023633,\n",
       "       2159548.71888971, 2157967.74077868, 2157769.88256073,\n",
       "       2167791.3240788 , 2178438.43000507, 2185598.6494962 ,\n",
       "       2189860.923926  , 2192518.11002827, 2194867.35461092,\n",
       "       2196045.06575561, 2193206.23791552, 2191729.68020833,\n",
       "       2189060.82510448, 2185655.62168038, 2180600.62735653,\n",
       "       2176533.63710022, 2174391.68889856, 2171743.68355489,\n",
       "       2169535.41080749, 2168771.26280701, 2170939.03725481,\n",
       "       2176108.66235888, 2183069.47920537, 2188433.53046811,\n",
       "       2191922.21873438, 2191835.21603143, 2194979.32554519,\n",
       "       2194484.33679438, 2192557.32130563, 2188966.52927554,\n",
       "       2179230.63509023, 2170038.1216917 , 2165469.45016897,\n",
       "       2161871.53661585, 2158655.52546   , 2153958.23751545,\n",
       "       2148859.3986342 , 2144301.19489229, 2138409.80771995,\n",
       "       2131885.63461637, 2127501.7794863 , 2123884.73220265,\n",
       "       2121382.84678316, 2120752.03428602, 2120395.95813489,\n",
       "       2118683.61795461, 2114420.57131147, 2110438.35291958,\n",
       "       2106582.26270652, 2103257.28366828, 2101472.09802961,\n",
       "       2099968.1696496 , 2096994.63348246, 2094535.73460555,\n",
       "       2101821.91067255, 2117013.40630209, 2134805.45905566,\n",
       "       2150861.06141245, 2158574.78626525, 2163568.26092637,\n",
       "       2164638.89182127, 2170997.72546864, 2176343.84422159,\n",
       "       2176607.59797788, 2174009.18589091, 2170681.80441117,\n",
       "       2169127.85376704, 2173598.96900451, 2184661.95471501,\n",
       "       2193258.8342241 , 2217964.94201636, 2235762.82927072,\n",
       "       2248406.87889373, 2252116.07696927, 2260844.40434909,\n",
       "       2262473.86029756, 2257073.25760341, 2253003.60750115,\n",
       "       2253320.64397788, 2237399.4925437 , 2226131.26968777,\n",
       "       2219108.58997262, 2210771.94635904, 2220385.57343221,\n",
       "       2233899.47848177, 2245855.31441605, 2257771.51006556,\n",
       "       2265938.00933993, 2270925.73530173, 2270654.08780909,\n",
       "       2268476.44619083, 2264428.07485616, 2259581.66393554,\n",
       "       2255647.92338109, 2251245.62093234, 2246311.60669839,\n",
       "       2240988.74014711, 2235836.10373652, 2232061.18172562,\n",
       "       2228360.73540127, 2221196.14003456, 2213000.12505031,\n",
       "       2205915.83987093, 2199533.75402188, 2180800.20160413])"
      ]
     },
     "execution_count": 52,
     "metadata": {},
     "output_type": "execute_result"
    }
   ],
   "source": [
    "prediction \n"
   ]
  },
  {
   "cell_type": "code",
   "execution_count": 53,
   "metadata": {},
   "outputs": [
    {
     "name": "stdout",
     "output_type": "stream",
     "text": [
      "42326.40796403704\n"
     ]
    }
   ],
   "source": [
    "rmse =np.sqrt(np.mean(((prediction- ytest)**2)))\n",
    "print(rmse)\n"
   ]
  },
  {
   "cell_type": "code",
   "execution_count": 54,
   "metadata": {},
   "outputs": [
    {
     "data": {
      "text/plain": [
       "array([2095864.79956484, 2085061.87814689, 2076748.14352906,\n",
       "       2068464.35362852, 2063003.00348496, 2060276.74718952,\n",
       "       2060802.88187838, 2058780.19773698, 2057593.56323814,\n",
       "       2057501.75565219, 2056928.43014812, 2055434.1973356 ,\n",
       "       2056524.73417437, 2052309.47895682, 2047347.75084412,\n",
       "       2041730.49940741, 2037466.337345  , 2036587.98757172,\n",
       "       2037739.35766137, 2041072.83104634, 2052449.42117429,\n",
       "       2059089.85528624, 2063846.34625351, 2067166.94941616,\n",
       "       2070224.57103586, 2071198.50366032, 2070949.25035453,\n",
       "       2068749.55775535, 2066404.68904829, 2063894.39508355,\n",
       "       2061349.52312148, 2059963.14277208, 2058829.70519221,\n",
       "       2059889.09609294, 2060661.48103571, 2062057.64275408,\n",
       "       2070305.13862765, 2082320.26338613, 2103462.60661519,\n",
       "       2126817.68426871, 2147320.29164648, 2156764.80399823,\n",
       "       2160696.82852304, 2160021.39925516, 2159013.06023633,\n",
       "       2159548.71888971, 2157967.74077868, 2157769.88256073,\n",
       "       2167791.3240788 , 2178438.43000507, 2185598.6494962 ,\n",
       "       2189860.923926  , 2192518.11002827, 2194867.35461092,\n",
       "       2196045.06575561, 2193206.23791552, 2191729.68020833,\n",
       "       2189060.82510448, 2185655.62168038, 2180600.62735653,\n",
       "       2176533.63710022, 2174391.68889856, 2171743.68355489,\n",
       "       2169535.41080749, 2168771.26280701, 2170939.03725481,\n",
       "       2176108.66235888, 2183069.47920537, 2188433.53046811,\n",
       "       2191922.21873438, 2191835.21603143, 2194979.32554519,\n",
       "       2194484.33679438, 2192557.32130563, 2188966.52927554,\n",
       "       2179230.63509023, 2170038.1216917 , 2165469.45016897,\n",
       "       2161871.53661585, 2158655.52546   , 2153958.23751545,\n",
       "       2148859.3986342 , 2144301.19489229, 2138409.80771995,\n",
       "       2131885.63461637, 2127501.7794863 , 2123884.73220265,\n",
       "       2121382.84678316, 2120752.03428602, 2120395.95813489,\n",
       "       2118683.61795461, 2114420.57131147, 2110438.35291958,\n",
       "       2106582.26270652, 2103257.28366828, 2101472.09802961,\n",
       "       2099968.1696496 , 2096994.63348246, 2094535.73460555,\n",
       "       2101821.91067255, 2117013.40630209, 2134805.45905566,\n",
       "       2150861.06141245, 2158574.78626525, 2163568.26092637,\n",
       "       2164638.89182127, 2170997.72546864, 2176343.84422159,\n",
       "       2176607.59797788, 2174009.18589091, 2170681.80441117,\n",
       "       2169127.85376704, 2173598.96900451, 2184661.95471501,\n",
       "       2193258.8342241 , 2217964.94201636, 2235762.82927072,\n",
       "       2248406.87889373, 2252116.07696927, 2260844.40434909,\n",
       "       2262473.86029756, 2257073.25760341, 2253003.60750115,\n",
       "       2253320.64397788, 2237399.4925437 , 2226131.26968777,\n",
       "       2219108.58997262, 2210771.94635904, 2220385.57343221,\n",
       "       2233899.47848177, 2245855.31441605, 2257771.51006556,\n",
       "       2265938.00933993, 2270925.73530173, 2270654.08780909,\n",
       "       2268476.44619083, 2264428.07485616, 2259581.66393554,\n",
       "       2255647.92338109, 2251245.62093234, 2246311.60669839,\n",
       "       2240988.74014711, 2235836.10373652, 2232061.18172562,\n",
       "       2228360.73540127, 2221196.14003456, 2213000.12505031,\n",
       "       2205915.83987093, 2199533.75402188, 2180800.20160413])"
      ]
     },
     "execution_count": 54,
     "metadata": {},
     "output_type": "execute_result"
    }
   ],
   "source": [
    "\n",
    "prediction\n"
   ]
  },
  {
   "cell_type": "code",
   "execution_count": 55,
   "metadata": {},
   "outputs": [
    {
     "data": {
      "text/plain": [
       "(150,)"
      ]
     },
     "execution_count": 55,
     "metadata": {},
     "output_type": "execute_result"
    }
   ],
   "source": [
    "prediction.shape\n"
   ]
  },
  {
   "cell_type": "code",
   "execution_count": 56,
   "metadata": {},
   "outputs": [
    {
     "name": "stderr",
     "output_type": "stream",
     "text": [
      "C:\\Users\\MSI\\AppData\\Local\\Temp\\ipykernel_14212\\631013780.py:3: SettingWithCopyWarning: \n",
      "A value is trying to be set on a copy of a slice from a DataFrame.\n",
      "Try using .loc[row_indexer,col_indexer] = value instead\n",
      "\n",
      "See the caveats in the documentation: https://pandas.pydata.org/pandas-docs/stable/user_guide/indexing.html#returning-a-view-versus-a-copy\n",
      "  valid['prediction']=prediction\n"
     ]
    }
   ],
   "source": [
    "\n",
    "train=data[:training_data_len]\n",
    "valid=data[training_data_len:]\n",
    "valid['prediction']=prediction\n"
   ]
  },
  {
   "cell_type": "code",
   "execution_count": 57,
   "metadata": {},
   "outputs": [
    {
     "data": {
      "image/png": "[encoded data removed]",
      "text/plain": [
       "<Figure size 1600x800 with 1 Axes>"
      ]
     },
     "metadata": {},
     "output_type": "display_data"
    }
   ],
   "source": [
    "plt.figure(figsize=(16,8))\n",
    "plt.title('PRICE PREDICTOR')\n",
    "plt.xlabel('Date')\n",
    "plt.ylabel('Price')\n",
    "plt.plot(train['Close'])\n",
    "plt.plot(valid[['Close','prediction']])\n",
    "plt.legend(['Train','Value','Prediction'])\n",
    "plt.show()"
   ]
  },
  {
   "cell_type": "code",
   "execution_count": 58,
   "metadata": {},
   "outputs": [],
   "source": [
    "newdf=data[-n:].values\n",
    "snewdf=scaler.transform(newdf)\n",
    "\n"
   ]
  },
  {
   "cell_type": "code",
   "execution_count": 59,
   "metadata": {},
   "outputs": [],
   "source": [
    "xtest=[]\n",
    "xtest.append(snewdf)\n",
    "xtest=np.array(xtest)\n",
    "xtest=np.reshape(xtest,(xtest.shape[0],xtest.shape[1],2))\n"
   ]
  },
  {
   "cell_type": "code",
   "execution_count": 60,
   "metadata": {},
   "outputs": [
    {
     "name": "stdout",
     "output_type": "stream",
     "text": [
      "\u001b[1m1/1\u001b[0m \u001b[32m━━━━━━━━━━━━━━━━━━━━\u001b[0m\u001b[37m\u001b[0m \u001b[1m0s\u001b[0m 43ms/step\n"
     ]
    },
    {
     "data": {
      "text/plain": [
       "array([2167355.02354181])"
      ]
     },
     "execution_count": 60,
     "metadata": {},
     "output_type": "execute_result"
    }
   ],
   "source": [
    "prediction=model.predict(xtest)\n",
    "\n",
    "Predict_dataset_like = np.zeros(shape=(len(prediction), 2) )\n",
    "\n",
    "Predict_dataset_like[:,0] = prediction[:,0]\n",
    "\n",
    "prediction = scaler.inverse_transform(Predict_dataset_like)[:,0]\n",
    "\n",
    "prediction\n"
   ]
  }
 ],
 "metadata": {
  "kernelspec": {
   "display_name": "Python 3",
   "language": "python",
   "name": "python3"
  },
  "language_info": {
   "codemirror_mode": {
    "name": "ipython",
    "version": 3
   },
   "file_extension": ".py",
   "mimetype": "text/x-python",
   "name": "python",
   "nbconvert_exporter": "python",
   "pygments_lexer": "ipython3",
   "version": "3.12.2"
  }
 },
 "nbformat": 4,
 "nbformat_minor": 2
}
